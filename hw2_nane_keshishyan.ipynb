{
  "cells": [
    {
      "cell_type": "markdown",
      "metadata": {
        "id": "view-in-github",
        "colab_type": "text"
      },
      "source": [
        "<a href=\"https://colab.research.google.com/github/nanekeshishyan/speech-tech-rau/blob/main/hw2_nane_keshishyan.ipynb\" target=\"_parent\"><img src=\"https://colab.research.google.com/assets/colab-badge.svg\" alt=\"Open In Colab\"/></a>"
      ]
    },
    {
      "cell_type": "markdown",
      "source": [
        "**This is the task for the second home work (HW2)**\n",
        "\n",
        "Need to get Armenian MCV dataset and train Armenian ASR model\n",
        "\n",
        "Quality metric is WER on Armenian MCV test subset."
      ],
      "metadata": {
        "id": "W39pawQb6U-D"
      }
    },
    {
      "cell_type": "code",
      "execution_count": null,
      "metadata": {
        "id": "gdFyI8Z67yL1"
      },
      "outputs": [],
      "source": [
        "\"\"\"\n",
        "You can run either this notebook locally (if you have all the dependencies and a GPU) or on Google Colab.\n",
        "\n",
        "Instructions for setting up Colab are as follows:\n",
        "1. Open a new Python 3 notebook.\n",
        "2. Import this notebook from GitHub (File -> Upload Notebook -> \"GITHUB\" tab -> copy/paste GitHub URL)\n",
        "3. Connect to an instance with a GPU (Runtime -> Change runtime type -> select \"GPU\" for hardware accelerator)\n",
        "4. Run this cell to set up dependencies.\n",
        "5. Restart the runtime (Runtime -> Restart Runtime) for any upgraded packages to take effect\n",
        "\n",
        "\n",
        "NOTE: User is responsible for checking the content of datasets and the applicable licenses and determining if suitable for the intended use.\n",
        "\"\"\"\n",
        "\n",
        "# Install dependencies\n",
        "!pip install wget\n",
        "!apt-get install sox libsndfile1 ffmpeg libsox-fmt-mp3\n",
        "!pip install text-unidecode\n",
        "!pip install matplotlib>=3.3.2\n",
        "\n",
        "## Install NeMo\n",
        "BRANCH = 'main'\n",
        "!python -m pip install git+https://github.com/NVIDIA/NeMo.git@$BRANCH#egg=nemo_toolkit[all]\n",
        "\n",
        "\"\"\"\n",
        "Remember to restart the runtime for the kernel to pick up any upgraded packages (e.g. matplotlib)!\n",
        "Alternatively, you can uncomment the exit() below to crash and restart the kernel, in the case\n",
        "that you want to use the \"Run All Cells\" (or similar) option.\n",
        "\"\"\"\n",
        "# exit()"
      ]
    },
    {
      "cell_type": "code",
      "execution_count": null,
      "metadata": {
        "id": "qHsIIbCcCt4B"
      },
      "outputs": [],
      "source": [
        "import os\n",
        "import glob\n",
        "import subprocess\n",
        "import tarfile\n",
        "import wget\n",
        "import copy\n",
        "from omegaconf import OmegaConf, open_dict\n"
      ]
    },
    {
      "cell_type": "code",
      "execution_count": null,
      "metadata": {
        "id": "WyFzdwK3C2-j"
      },
      "outputs": [],
      "source": [
        "data_dir = 'datasets/'\n",
        "\n",
        "if not os.path.exists(data_dir):\n",
        "  os.makedirs(data_dir, exist_ok=True)\n",
        "\n",
        "if not os.path.exists(\"scripts\"):\n",
        "  os.makedirs(\"scripts\")\n",
        "\n",
        "import nemo\n",
        "import nemo.collections.asr as nemo_asr\n",
        "from nemo.collections.asr.metrics.wer import word_error_rate\n",
        "from nemo.utils import logging, exp_manager"
      ]
    },
    {
      "cell_type": "markdown",
      "metadata": {
        "id": "6nDteKVO9fYq"
      },
      "source": [
        "**Download dataset**\n",
        "\n",
        "We will use the NeMo script in the scripts directory to download and prepare the Mozilla Common Voice (MCV) dataset for Armenian.\n",
        "\n",
        "The data preparation script will download the audio files and respective transcripts and then process the audio into mono-channel 16 kHz wave files that can be easily used for training ASR models.\n",
        "\n",
        "**Hugging Face**\n",
        "\n",
        "Now, let's download the Mozilla CommonVoice Spanish dataset. We will ignore the larger train file and get just the test part for the purposes of this tutorial. For good results, you will need to get the train files and likely other datasets too, bringing the total to over 1k hours.\n",
        "\n",
        "Website steps:\n",
        "\n",
        "Visit https://huggingface.co/settings/profile\n",
        "\n",
        "Visit \"Access Tokens\" on list of items.\n",
        "\n",
        "Create new token - provide a name for the token and \"read\" access is sufficient.\n",
        "\n",
        "PRESERVE THAT TOKEN API KEY. You can copy that key for next step.\n",
        "\n",
        "Visit the HuggingFace Dataset page for [Mozilla Common Voice 16.1](https://huggingface.co/datasets/mozilla-foundation/common_voice_16_1)\n",
        "\n",
        "There should be a section that asks you for your approval.\n",
        "\n",
        "Make sure you are logged in and then read that agreement.\n",
        "\n",
        "If and only if you agree to the text, then accept the terms.\n",
        "\n",
        "Code steps:\n",
        "\n",
        "* Now below, run login()\n",
        "\n",
        "* Paste your preserved HF TOKEN API KEY to the text box.\""
      ]
    },
    {
      "cell_type": "code",
      "execution_count": null,
      "metadata": {
        "id": "3GjJu8Rx9ekc",
        "outputId": "c0b9f8dc-10b8-4241-9c3f-22be2abd6040",
        "colab": {
          "base_uri": "https://localhost:8080/",
          "height": 145,
          "referenced_widgets": [
            "4f597389e524426b8a03c2684b1d8aaa",
            "bf1001d0bbd84b129034f6c1967fb4c6",
            "79e38aebbf6644f9a5bb75655b38ec22",
            "443f7d1d655046629df2a764acd517ef",
            "1ee274f41a5547bea66434520d2a9b5d",
            "c897f50a652348ecbffb5c684b3668d0",
            "6ff158e0a3ff46ff9eec34132f4d5b02",
            "2fb8308aa91a4a9dae02583b0b046f1d",
            "5935217eb91d4f24b1e9ec4b6aba4299",
            "2cb6b203c6ec4872ab7fbf9b30dd1b9c",
            "ca149d31c8154f62ba04fa3a6e91f76a",
            "be86d336e84248daa73dc3346490097f",
            "967197a375c340a7bc8b0c0ad866c500",
            "bebe1a33597743f48314fee5b0871ae0",
            "dd876e1bfe064091a59c122800336ed2",
            "b977afe7120a4e03b74647317961c958",
            "2952249220814452a579c52b3f810074",
            "d37db8e0655c4f6a96f3c4d9a3f42e71",
            "bf2ef4efaf5c46a280741f8de90f110c",
            "ac291946ad5e4e8996b9eff5d553becb",
            "1fed370a0df54ea786bcc7214e3974f7",
            "5d62a9631ed14620a34c68ef81ea6a16",
            "b17b2c8ec4ab4ddeb4c727e82a996704",
            "d6890f87aac5489eb47c17797a3fcc6a",
            "1a58e185aa864d0885aac19a9cbbb295",
            "7a7d49706a064404989b8e943fbb515f",
            "9af81d8de0d74d0ab6fa805b9db78428",
            "ef2dda06f21b43109de118e669a16c13",
            "d34ca5e7e0114051a8058f2b26de0687",
            "cdcad188b5b847589b548aa155160e82",
            "3b78055cd73e4d68a3aa8d12b8502d82",
            "7b2640be9adc4fdc9030801d18980bfd"
          ]
        }
      },
      "outputs": [
        {
          "output_type": "display_data",
          "data": {
            "text/plain": [
              "VBox(children=(HTML(value='<center> <img\\nsrc=https://huggingface.co/front/assets/huggingface_logo-noborder.sv…"
            ],
            "application/vnd.jupyter.widget-view+json": {
              "version_major": 2,
              "version_minor": 0,
              "model_id": "4f597389e524426b8a03c2684b1d8aaa"
            }
          },
          "metadata": {}
        }
      ],
      "source": [
        "from huggingface_hub import login\n",
        "login()"
      ]
    },
    {
      "cell_type": "code",
      "execution_count": null,
      "metadata": {
        "id": "SVv1dbch9h0h"
      },
      "outputs": [],
      "source": [
        "VERSION = \"mozilla-foundation/common_voice_16_1\"\n",
        "LANGUAGE = \"hy-AM\""
      ]
    },
    {
      "cell_type": "code",
      "execution_count": null,
      "metadata": {
        "id": "ue1ZdBdP_DwF"
      },
      "outputs": [],
      "source": [
        "tokenizer_dir = os.path.join('tokenizers', LANGUAGE)\n",
        "manifest_dir = os.path.join('datasets', LANGUAGE, VERSION, LANGUAGE)"
      ]
    },
    {
      "cell_type": "code",
      "execution_count": null,
      "metadata": {
        "id": "dFRBMCx-_Hpw"
      },
      "outputs": [],
      "source": [
        "# If something goes wrong during data processing, un-comment the following line to delete the cached dataset\n",
        "# !rm -rf datasets/$LANGUAGE\n",
        "!mkdir -p datasets"
      ]
    },
    {
      "cell_type": "markdown",
      "metadata": {
        "id": "DX3l7BMuAdr5"
      },
      "source": [
        "The following cell will download the Japanese MCV corpus, preprocess the audio and prepare manifest files that can be directly used by NeMo models.\n",
        "\n",
        "We will use the convert_hf_dataset_to_nemo.py script located in the nemo/scripts/speech_recognition dir if you cloned NeMo repo"
      ]
    },
    {
      "cell_type": "code",
      "execution_count": null,
      "metadata": {
        "id": "A5wttMEYAMQJ"
      },
      "outputs": [],
      "source": [
        "if not os.path.exists(\"convert_hf_dataset_to_nemo.py\"):\n",
        "    !wget https://raw.githubusercontent.com/NVIDIA/NeMo/main/scripts/speech_recognition/convert_hf_dataset_to_nemo.py"
      ]
    },
    {
      "cell_type": "code",
      "execution_count": null,
      "metadata": {
        "id": "oJYJmlggAg8_",
        "outputId": "337280db-e6ef-418c-cf7d-57cb06623a3a",
        "colab": {
          "base_uri": "https://localhost:8080/"
        }
      },
      "outputs": [
        {
          "output_type": "stream",
          "name": "stdout",
          "text": [
            "/content/convert_hf_dataset_to_nemo.py:346: UserWarning: \n",
            "The version_base parameter is not specified.\n",
            "Please specify a compatability version level, or None.\n",
            "Will assume defaults for version 1.1\n",
            "  @hydra.main(config_name='hfds_config', config_path=None)\n",
            "/usr/local/lib/python3.10/dist-packages/hydra/_internal/hydra.py:119: UserWarning: Future Hydra versions will no longer change working directory at job runtime by default.\n",
            "See https://hydra.cc/docs/1.2/upgrades/1.1_to_1.2/changes_to_job_working_dir/ for more information.\n",
            "  ret = run_job(\n",
            "/usr/local/lib/python3.10/dist-packages/datasets/load.py:1461: FutureWarning: The repository for mozilla-foundation/common_voice_16_1 contains custom code which must be executed to correctly load the dataset. You can inspect the repository content at https://hf.co/datasets/mozilla-foundation/common_voice_16_1\n",
            "You can avoid this message in future by passing the argument `trust_remote_code=True`.\n",
            "Passing `trust_remote_code=True` will be mandatory to load this dataset from the next major release of `datasets`.\n",
            "  warnings.warn(\n",
            "Downloading builder script: 100% 8.17k/8.17k [00:00<00:00, 31.2MB/s]\n",
            "Downloading readme: 100% 12.3k/12.3k [00:00<00:00, 33.3MB/s]\n",
            "Downloading extra modules: 100% 3.74k/3.74k [00:00<00:00, 20.4MB/s]\n",
            "Downloading extra modules: 100% 77.3k/77.3k [00:00<00:00, 36.1MB/s]\n",
            "Downloading data: 100% 14.6k/14.6k [00:00<00:00, 22.9MB/s]\n",
            "Downloading data: 100% 123M/123M [00:01<00:00, 89.7MB/s]\n",
            "Downloading data: 100% 89.6M/89.6M [00:01<00:00, 84.2MB/s]\n",
            "Downloading data: 100% 101M/101M [00:01<00:00, 61.5MB/s] \n",
            "Downloading data: 100% 177M/177M [00:02<00:00, 81.6MB/s]\n",
            "Downloading data: 100% 30.0M/30.0M [00:00<00:00, 93.0MB/s]\n",
            "Downloading data: 100% 1.17M/1.17M [00:00<00:00, 4.73MB/s]\n",
            "Downloading data: 100% 793k/793k [00:00<00:00, 38.4MB/s]\n",
            "Downloading data: 100% 871k/871k [00:00<00:00, 1.71MB/s]\n",
            "Downloading data: 100% 1.66M/1.66M [00:00<00:00, 57.1MB/s]\n",
            "Downloading data: 100% 233k/233k [00:00<00:00, 980kB/s]\n",
            "Generating train split: 0 examples [00:00, ? examples/s]\n",
            "Reading metadata...: 3794it [00:00, 146193.75it/s]\n",
            "Generating train split: 3794 examples [00:00, 4372.00 examples/s]\n",
            "Generating validation split: 0 examples [00:00, ? examples/s]\n",
            "Reading metadata...: 2656it [00:00, 132089.97it/s]\n",
            "Generating validation split: 2656 examples [00:00, 4242.92 examples/s]\n",
            "Generating test split: 0 examples [00:00, ? examples/s]\n",
            "Reading metadata...: 2853it [00:00, 147734.53it/s]\n",
            "Generating test split: 2853 examples [00:00, 4576.39 examples/s]\n",
            "Generating other split: 0 examples [00:00, ? examples/s]\n",
            "Reading metadata...: 5513it [00:00, 138106.66it/s]\n",
            "Generating other split: 5513 examples [00:01, 4625.38 examples/s]\n",
            "Generating invalidated split: 0 examples [00:00, ? examples/s]\n",
            "Reading metadata...: 744it [00:00, 142393.89it/s]\n",
            "Generating invalidated split: 744 examples [00:00, 4393.01 examples/s]\n",
            "Single split found for dataset mozilla-foundation/common_voice_16_1 | Split chosen = train\n",
            "Map: 100% 3794/3794 [06:36<00:00,  9.56 examples/s]\n",
            "Processing mozilla-foundation/common_voice_16_1 (split : train):: 100% 3794/3794 [00:03<00:00, 1105.50 samples/s]\n",
            "\n",
            "Dataset conversion finished !\n",
            "\u001b[0m/content/convert_hf_dataset_to_nemo.py:346: UserWarning: \n",
            "The version_base parameter is not specified.\n",
            "Please specify a compatability version level, or None.\n",
            "Will assume defaults for version 1.1\n",
            "  @hydra.main(config_name='hfds_config', config_path=None)\n",
            "/usr/local/lib/python3.10/dist-packages/hydra/_internal/hydra.py:119: UserWarning: Future Hydra versions will no longer change working directory at job runtime by default.\n",
            "See https://hydra.cc/docs/1.2/upgrades/1.1_to_1.2/changes_to_job_working_dir/ for more information.\n",
            "  ret = run_job(\n",
            "/usr/local/lib/python3.10/dist-packages/datasets/load.py:1461: FutureWarning: The repository for mozilla-foundation/common_voice_16_1 contains custom code which must be executed to correctly load the dataset. You can inspect the repository content at https://hf.co/datasets/mozilla-foundation/common_voice_16_1\n",
            "You can avoid this message in future by passing the argument `trust_remote_code=True`.\n",
            "Passing `trust_remote_code=True` will be mandatory to load this dataset from the next major release of `datasets`.\n",
            "  warnings.warn(\n",
            "Single split found for dataset mozilla-foundation/common_voice_16_1 | Split chosen = validation\n",
            "Map: 100% 2656/2656 [04:42<00:00,  9.39 examples/s]\n",
            "Processing mozilla-foundation/common_voice_16_1 (split : validation):: 100% 2656/2656 [00:02<00:00, 1043.69 samples/s]\n",
            "\n",
            "Dataset conversion finished !\n",
            "\u001b[0m/content/convert_hf_dataset_to_nemo.py:346: UserWarning: \n",
            "The version_base parameter is not specified.\n",
            "Please specify a compatability version level, or None.\n",
            "Will assume defaults for version 1.1\n",
            "  @hydra.main(config_name='hfds_config', config_path=None)\n",
            "/usr/local/lib/python3.10/dist-packages/hydra/_internal/hydra.py:119: UserWarning: Future Hydra versions will no longer change working directory at job runtime by default.\n",
            "See https://hydra.cc/docs/1.2/upgrades/1.1_to_1.2/changes_to_job_working_dir/ for more information.\n",
            "  ret = run_job(\n",
            "/usr/local/lib/python3.10/dist-packages/datasets/load.py:1461: FutureWarning: The repository for mozilla-foundation/common_voice_16_1 contains custom code which must be executed to correctly load the dataset. You can inspect the repository content at https://hf.co/datasets/mozilla-foundation/common_voice_16_1\n",
            "You can avoid this message in future by passing the argument `trust_remote_code=True`.\n",
            "Passing `trust_remote_code=True` will be mandatory to load this dataset from the next major release of `datasets`.\n",
            "  warnings.warn(\n",
            "Single split found for dataset mozilla-foundation/common_voice_16_1 | Split chosen = test\n",
            "Map: 100% 2853/2853 [05:24<00:00,  8.79 examples/s]\n",
            "Processing mozilla-foundation/common_voice_16_1 (split : test):: 100% 2853/2853 [00:03<00:00, 834.93 samples/s] \n",
            "\n",
            "Dataset conversion finished !\n",
            "\u001b[0m/content/convert_hf_dataset_to_nemo.py:346: UserWarning: \n",
            "The version_base parameter is not specified.\n",
            "Please specify a compatability version level, or None.\n",
            "Will assume defaults for version 1.1\n",
            "  @hydra.main(config_name='hfds_config', config_path=None)\n",
            "/usr/local/lib/python3.10/dist-packages/hydra/_internal/hydra.py:119: UserWarning: Future Hydra versions will no longer change working directory at job runtime by default.\n",
            "See https://hydra.cc/docs/1.2/upgrades/1.1_to_1.2/changes_to_job_working_dir/ for more information.\n",
            "  ret = run_job(\n",
            "/usr/local/lib/python3.10/dist-packages/datasets/load.py:1461: FutureWarning: The repository for mozilla-foundation/common_voice_16_1 contains custom code which must be executed to correctly load the dataset. You can inspect the repository content at https://hf.co/datasets/mozilla-foundation/common_voice_16_1\n",
            "You can avoid this message in future by passing the argument `trust_remote_code=True`.\n",
            "Passing `trust_remote_code=True` will be mandatory to load this dataset from the next major release of `datasets`.\n",
            "  warnings.warn(\n",
            "Single split found for dataset mozilla-foundation/common_voice_16_1 | Split chosen = other\n",
            "Map: 100% 5513/5513 [09:25<00:00,  9.76 examples/s]\n",
            "Processing mozilla-foundation/common_voice_16_1 (split : other):: 100% 5513/5513 [00:05<00:00, 1099.29 samples/s]\n",
            "\n",
            "Dataset conversion finished !\n",
            "\u001b[0m/content/convert_hf_dataset_to_nemo.py:346: UserWarning: \n",
            "The version_base parameter is not specified.\n",
            "Please specify a compatability version level, or None.\n",
            "Will assume defaults for version 1.1\n",
            "  @hydra.main(config_name='hfds_config', config_path=None)\n",
            "/usr/local/lib/python3.10/dist-packages/hydra/_internal/hydra.py:119: UserWarning: Future Hydra versions will no longer change working directory at job runtime by default.\n",
            "See https://hydra.cc/docs/1.2/upgrades/1.1_to_1.2/changes_to_job_working_dir/ for more information.\n",
            "  ret = run_job(\n",
            "/usr/local/lib/python3.10/dist-packages/datasets/load.py:1461: FutureWarning: The repository for mozilla-foundation/common_voice_16_1 contains custom code which must be executed to correctly load the dataset. You can inspect the repository content at https://hf.co/datasets/mozilla-foundation/common_voice_16_1\n",
            "You can avoid this message in future by passing the argument `trust_remote_code=True`.\n",
            "Passing `trust_remote_code=True` will be mandatory to load this dataset from the next major release of `datasets`.\n",
            "  warnings.warn(\n",
            "Single split found for dataset mozilla-foundation/common_voice_16_1 | Split chosen = invalidated\n",
            "Map: 100% 744/744 [01:37<00:00,  7.67 examples/s]\n",
            "Processing mozilla-foundation/common_voice_16_1 (split : invalidated):: 100% 744/744 [00:00<00:00, 975.22 samples/s]\n",
            "\n",
            "Dataset conversion finished !\n",
            "\u001b[0m"
          ]
        }
      ],
      "source": [
        "!python convert_hf_dataset_to_nemo.py \\\n",
        "    output_dir=datasets/$LANGUAGE \\\n",
        "    path=$VERSION \\\n",
        "    name=$LANGUAGE \\\n",
        "    split=\"train\" \\\n",
        "    ensure_ascii=False \\\n",
        "    use_auth_token=True\n",
        "\n",
        "!python convert_hf_dataset_to_nemo.py \\\n",
        "    output_dir=datasets/$LANGUAGE \\\n",
        "    path=$VERSION \\\n",
        "    name=$LANGUAGE \\\n",
        "    split=\"validation\" \\\n",
        "    ensure_ascii=False \\\n",
        "    use_auth_token=True\n",
        "\n",
        "!python convert_hf_dataset_to_nemo.py \\\n",
        "    output_dir=datasets/$LANGUAGE \\\n",
        "    path=$VERSION \\\n",
        "    name=$LANGUAGE \\\n",
        "    split=\"test\" \\\n",
        "    ensure_ascii=False \\\n",
        "    use_auth_token=True\n",
        "\n",
        "!python convert_hf_dataset_to_nemo.py \\\n",
        "    output_dir=datasets/$LANGUAGE \\\n",
        "    path=$VERSION \\\n",
        "    name=$LANGUAGE \\\n",
        "    split=\"other\" \\\n",
        "    ensure_ascii=False \\\n",
        "    use_auth_token=True\n",
        "\n",
        "!python convert_hf_dataset_to_nemo.py \\\n",
        "    output_dir=datasets/$LANGUAGE \\\n",
        "    path=$VERSION \\\n",
        "    name=$LANGUAGE \\\n",
        "    split=\"invalidated\" \\\n",
        "    ensure_ascii=False \\\n",
        "    use_auth_token=True"
      ]
    },
    {
      "cell_type": "code",
      "execution_count": null,
      "metadata": {
        "id": "DxEtgKeuBXT9"
      },
      "outputs": [],
      "source": [
        "train_manifest = f\"{manifest_dir}/train/train_mozilla-foundation_common_voice_16_1_manifest.json\"\n",
        "dev_manifest = f\"{manifest_dir}/validation/validation_mozilla-foundation_common_voice_16_1_manifest.json\"\n",
        "test_manifest = f\"{manifest_dir}/test/test_mozilla-foundation_common_voice_16_1_manifest.json\"\n",
        "other_manifest = f\"{manifest_dir}/other/other_mozilla-foundation_common_voice_16_1_manifest.json\"\n",
        "invalidated_manifest = f\"{manifest_dir}/invalidated/invalidated_mozilla-foundation_common_voice_16_1_manifest.json\""
      ]
    },
    {
      "cell_type": "code",
      "source": [
        "train_manifest_full = f\"{manifest_dir}/train_full_mozilla-foundation_common_voice_16_1_manifest.json\"\n",
        "!cat $train_manifest $other_manifest $invalidated_manifest > $train_manifest_full"
      ],
      "metadata": {
        "id": "_GGIbCEUpu73"
      },
      "execution_count": null,
      "outputs": []
    },
    {
      "cell_type": "markdown",
      "source": [
        "**Hint**: Convert texts to lowercase and remove punctuation to improve WER."
      ],
      "metadata": {
        "id": "6VWZxRqnvetm"
      }
    },
    {
      "cell_type": "code",
      "source": [
        "if not os.path.exists(\"scripts/process_asr_text_tokenizer.py\"):\n",
        "  !wget -P scripts/ https://raw.githubusercontent.com/NVIDIA/NeMo/$BRANCH/scripts/tokenizers/process_asr_text_tokenizer.py\n"
      ],
      "metadata": {
        "id": "LNc6TssznDUf",
        "outputId": "69fc9e01-94cf-4c78-ea9f-ea36dc40e081",
        "colab": {
          "base_uri": "https://localhost:8080/"
        }
      },
      "execution_count": null,
      "outputs": [
        {
          "output_type": "stream",
          "name": "stdout",
          "text": [
            "--2024-04-03 13:25:39--  https://raw.githubusercontent.com/NVIDIA/NeMo/main/scripts/tokenizers/process_asr_text_tokenizer.py\n",
            "Resolving raw.githubusercontent.com (raw.githubusercontent.com)... 185.199.110.133, 185.199.111.133, 185.199.109.133, ...\n",
            "Connecting to raw.githubusercontent.com (raw.githubusercontent.com)|185.199.110.133|:443... connected.\n",
            "HTTP request sent, awaiting response... 200 OK\n",
            "Length: 16631 (16K) [text/plain]\n",
            "Saving to: ‘scripts/process_asr_text_tokenizer.py’\n",
            "\n",
            "process_asr_text_to 100%[===================>]  16.24K  --.-KB/s    in 0s      \n",
            "\n",
            "2024-04-03 13:25:39 (131 MB/s) - ‘scripts/process_asr_text_tokenizer.py’ saved [16631/16631]\n",
            "\n"
          ]
        }
      ]
    },
    {
      "cell_type": "code",
      "source": [
        "import re\n",
        "\n",
        "#convert to lowercase and remove punctuation\n",
        "script_path = \"scripts/process_asr_text_tokenizer.py\"\n",
        "\n",
        "with open(script_path, 'r') as file:\n",
        "  script = file.read()\n",
        "\n",
        "modified_script = re.sub(\n",
        "    r'line\\[\"text\"\\].strip\\(\\)',\n",
        "    r're.sub(r\"[^\\\\w\\\\s]\", \"\", line[\"text\"].lower().strip())',\n",
        "    script)\n",
        "\n",
        "with open(script_path, 'w') as file:\n",
        "  file.write(modified_script)"
      ],
      "metadata": {
        "id": "Zv4i-eSCHSLs"
      },
      "execution_count": null,
      "outputs": []
    },
    {
      "cell_type": "markdown",
      "source": [
        "**Hint**: Play with `VOCAB_SIZE` to improve WER."
      ],
      "metadata": {
        "id": "3eWedNoOv-IO"
      }
    },
    {
      "cell_type": "code",
      "source": [
        "TOKENIZER_TYPE = \"bpe\" # \"bpe\", \"unigram\"\n",
        "VOCAB_SIZE = 128 + 4"
      ],
      "metadata": {
        "id": "P9aWyZqnnPuz"
      },
      "execution_count": null,
      "outputs": []
    },
    {
      "cell_type": "code",
      "source": [
        "!python scripts/process_asr_text_tokenizer.py \\\n",
        "  --manifest=$train_manifest_full,$dev_manifest \\\n",
        "  --vocab_size=$VOCAB_SIZE \\\n",
        "  --data_root=$tokenizer_dir \\\n",
        "  --tokenizer=\"spe\" \\\n",
        "  --spe_type=$TOKENIZER_TYPE \\\n",
        "  --spe_character_coverage=1.0 \\\n",
        "  --no_lower_case \\\n",
        "  --log"
      ],
      "metadata": {
        "id": "GYN9OWOVm8oe",
        "outputId": "2bdd2781-669d-40ab-9cb4-2206ddf2f0e0",
        "colab": {
          "base_uri": "https://localhost:8080/"
        }
      },
      "execution_count": null,
      "outputs": [
        {
          "output_type": "stream",
          "name": "stdout",
          "text": [
            "INFO:root:Finished extracting manifest : datasets/hy-AM/mozilla-foundation/common_voice_16_1/hy-AM/train_full_mozilla-foundation_common_voice_16_1_manifest.json\n",
            "INFO:root:Finished extracting manifest : datasets/hy-AM/mozilla-foundation/common_voice_16_1/hy-AM/validation/validation_mozilla-foundation_common_voice_16_1_manifest.json\n",
            "INFO:root:Finished extracting all manifests ! Number of sentences : 12707\n",
            "[NeMo I 2024-04-03 13:30:35 sentencepiece_tokenizer:317] Processing tokenizers/hy-AM/text_corpus/document.txt and store at tokenizers/hy-AM/tokenizer_spe_bpe_v132\n",
            "sentencepiece_trainer.cc(177) LOG(INFO) Running command: --input=tokenizers/hy-AM/text_corpus/document.txt --model_prefix=tokenizers/hy-AM/tokenizer_spe_bpe_v132/tokenizer --vocab_size=132 --shuffle_input_sentence=true --hard_vocab_limit=false --model_type=bpe --character_coverage=1.0 --bos_id=-1 --eos_id=-1\n",
            "sentencepiece_trainer.cc(77) LOG(INFO) Starts training with : \n",
            "trainer_spec {\n",
            "  input: tokenizers/hy-AM/text_corpus/document.txt\n",
            "  input_format: \n",
            "  model_prefix: tokenizers/hy-AM/tokenizer_spe_bpe_v132/tokenizer\n",
            "  model_type: BPE\n",
            "  vocab_size: 132\n",
            "  self_test_sample_size: 0\n",
            "  character_coverage: 1\n",
            "  input_sentence_size: 0\n",
            "  shuffle_input_sentence: 1\n",
            "  seed_sentencepiece_size: 1000000\n",
            "  shrinking_factor: 0.75\n",
            "  max_sentence_length: 4192\n",
            "  num_threads: 16\n",
            "  num_sub_iterations: 2\n",
            "  max_sentencepiece_length: 16\n",
            "  split_by_unicode_script: 1\n",
            "  split_by_number: 1\n",
            "  split_by_whitespace: 1\n",
            "  split_digits: 0\n",
            "  pretokenization_delimiter: \n",
            "  treat_whitespace_as_suffix: 0\n",
            "  allow_whitespace_only_pieces: 0\n",
            "  required_chars: \n",
            "  byte_fallback: 0\n",
            "  vocabulary_output_piece_score: 1\n",
            "  train_extremely_large_corpus: 0\n",
            "  hard_vocab_limit: 0\n",
            "  use_all_vocab: 0\n",
            "  unk_id: 0\n",
            "  bos_id: -1\n",
            "  eos_id: -1\n",
            "  pad_id: -1\n",
            "  unk_piece: <unk>\n",
            "  bos_piece: <s>\n",
            "  eos_piece: </s>\n",
            "  pad_piece: <pad>\n",
            "  unk_surface:  ⁇ \n",
            "  enable_differential_privacy: 0\n",
            "  differential_privacy_noise_level: 0\n",
            "  differential_privacy_clipping_threshold: 0\n",
            "}\n",
            "normalizer_spec {\n",
            "  name: nmt_nfkc\n",
            "  add_dummy_prefix: 1\n",
            "  remove_extra_whitespaces: 1\n",
            "  escape_whitespaces: 1\n",
            "  normalization_rule_tsv: \n",
            "}\n",
            "denormalizer_spec {}\n",
            "trainer_interface.cc(351) LOG(INFO) SentenceIterator is not specified. Using MultiFileSentenceIterator.\n",
            "trainer_interface.cc(183) LOG(INFO) Loading corpus: tokenizers/hy-AM/text_corpus/document.txt\n",
            "trainer_interface.cc(407) LOG(INFO) Loaded all 12707 sentences\n",
            "trainer_interface.cc(423) LOG(INFO) Adding meta_piece: <unk>\n",
            "trainer_interface.cc(428) LOG(INFO) Normalizing sentences...\n",
            "trainer_interface.cc(537) LOG(INFO) all chars count=772802\n",
            "trainer_interface.cc(558) LOG(INFO) Alphabet size=95\n",
            "trainer_interface.cc(559) LOG(INFO) Final character coverage=1\n",
            "trainer_interface.cc(591) LOG(INFO) Done! preprocessed 12707 sentences.\n",
            "trainer_interface.cc(597) LOG(INFO) Tokenizing input sentences with whitespace: 12707\n",
            "trainer_interface.cc(608) LOG(INFO) Done! 36121\n",
            "bpe_model_trainer.cc(159) LOG(INFO) Updating active symbols. max_freq=28278 min_freq=12\n",
            "bpe_model_trainer.cc(268) LOG(INFO) Added: freq=4783 size=20 all=3329 active=2455 piece=ությ\n",
            "trainer_interface.cc(686) LOG(INFO) Saving model: tokenizers/hy-AM/tokenizer_spe_bpe_v132/tokenizer.model\n",
            "trainer_interface.cc(698) LOG(INFO) Saving vocabs: tokenizers/hy-AM/tokenizer_spe_bpe_v132/tokenizer.vocab\n",
            "Serialized tokenizer at location : tokenizers/hy-AM/tokenizer_spe_bpe_v132\n",
            "INFO:root:Done!\n"
          ]
        }
      ]
    },
    {
      "cell_type": "markdown",
      "source": [
        "**Hint**: Try different models."
      ],
      "metadata": {
        "id": "TCgH4PhBwNLj"
      }
    },
    {
      "cell_type": "code",
      "source": [
        "model = nemo_asr.models.ASRModel.from_pretrained(\"stt_en_fastconformer_ctc_large\", map_location='cpu')\n",
        "#print(nemo_asr.models.EncDecCTCModel.list_available_models())\n",
        "#model = nemo_asr.models.EncDecCTCModel.from_pretrained(\"QuartzNet15x5Base-En\", map_location='cpu')"
      ],
      "metadata": {
        "id": "VQsHhskJr1GJ",
        "outputId": "353f9c5a-d39b-4d81-c287-9876592dfc05",
        "colab": {
          "base_uri": "https://localhost:8080/"
        }
      },
      "execution_count": null,
      "outputs": [
        {
          "output_type": "stream",
          "name": "stdout",
          "text": [
            "[NeMo I 2024-04-03 13:59:23 cloud:58] Found existing object /root/.cache/torch/NeMo/NeMo_1.23.0rc0/stt_en_fastconformer_ctc_large/00a071a9dac048acc3aeea942b0bfa40/stt_en_fastconformer_ctc_large.nemo.\n",
            "[NeMo I 2024-04-03 13:59:23 cloud:64] Re-using file from: /root/.cache/torch/NeMo/NeMo_1.23.0rc0/stt_en_fastconformer_ctc_large/00a071a9dac048acc3aeea942b0bfa40/stt_en_fastconformer_ctc_large.nemo\n",
            "[NeMo I 2024-04-03 13:59:23 common:815] Instantiating model from pre-trained checkpoint\n",
            "[NeMo I 2024-04-03 13:59:24 mixins:172] Tokenizer SentencePieceTokenizer initialized with 1024 tokens\n"
          ]
        },
        {
          "output_type": "stream",
          "name": "stderr",
          "text": [
            "[NeMo W 2024-04-03 13:59:25 modelPT:165] If you intend to do training or fine-tuning, please call the ModelPT.setup_training_data() method and provide a valid configuration file to setup the train data loader.\n",
            "    Train config : \n",
            "    manifest_filepath: null\n",
            "    sample_rate: 16000\n",
            "    batch_size: 1\n",
            "    shuffle: true\n",
            "    num_workers: 8\n",
            "    pin_memory: true\n",
            "    use_start_end_token: false\n",
            "    trim_silence: false\n",
            "    max_duration: 20\n",
            "    min_duration: 0.1\n",
            "    is_tarred: false\n",
            "    tarred_audio_filepaths: null\n",
            "    shuffle_n: 2048\n",
            "    bucketing_strategy: fully_randomized\n",
            "    bucketing_batch_size: null\n",
            "    \n",
            "[NeMo W 2024-04-03 13:59:25 modelPT:172] If you intend to do validation, please call the ModelPT.setup_validation_data() or ModelPT.setup_multiple_validation_data() method and provide a valid configuration file to setup the validation data loader(s). \n",
            "    Validation config : \n",
            "    manifest_filepath: null\n",
            "    sample_rate: 16000\n",
            "    batch_size: 32\n",
            "    shuffle: false\n",
            "    num_workers: 8\n",
            "    pin_memory: true\n",
            "    use_start_end_token: false\n",
            "    max_duration: 20\n",
            "    \n",
            "[NeMo W 2024-04-03 13:59:25 modelPT:178] Please call the ModelPT.setup_test_data() or ModelPT.setup_multiple_test_data() method and provide a valid configuration file to setup the test data loader(s).\n",
            "    Test config : \n",
            "    manifest_filepath: null\n",
            "    sample_rate: 16000\n",
            "    batch_size: 16\n",
            "    shuffle: false\n",
            "    num_workers: 8\n",
            "    pin_memory: true\n",
            "    use_start_end_token: false\n",
            "    \n"
          ]
        },
        {
          "output_type": "stream",
          "name": "stdout",
          "text": [
            "[NeMo I 2024-04-03 13:59:25 features:289] PADDING: 0\n",
            "[NeMo I 2024-04-03 13:59:27 save_restore_connector:263] Model EncDecCTCModelBPE was successfully restored from /root/.cache/torch/NeMo/NeMo_1.23.0rc0/stt_en_fastconformer_ctc_large/00a071a9dac048acc3aeea942b0bfa40/stt_en_fastconformer_ctc_large.nemo.\n"
          ]
        }
      ]
    },
    {
      "cell_type": "code",
      "source": [
        "import torch\n",
        "import torch.nn as nn\n",
        "\n",
        "freeze_encoder = True # set to False if dare lol\n",
        "\n",
        "def enable_bn_se(m):\n",
        "    if type(m) == nn.BatchNorm1d:\n",
        "        m.train()\n",
        "        for param in m.parameters():\n",
        "            param.requires_grad_(True)\n",
        "\n",
        "    if 'SqueezeExcite' in type(m).__name__:\n",
        "        m.train()\n",
        "        for param in m.parameters():\n",
        "            param.requires_grad_(True)\n",
        "\n",
        "if freeze_encoder:\n",
        "  model.encoder.freeze()\n",
        "  model.encoder.apply(enable_bn_se)\n",
        "  logging.info(\"Model encoder has been frozen\")\n",
        "else:\n",
        "  model.encoder.unfreeze()\n",
        "  logging.info(\"Model encoder has been un-frozen\")"
      ],
      "metadata": {
        "id": "nS3Mew8EoETr",
        "outputId": "2746c160-6717-44f7-e845-0d29e525fe47",
        "colab": {
          "base_uri": "https://localhost:8080/"
        }
      },
      "execution_count": null,
      "outputs": [
        {
          "output_type": "stream",
          "name": "stdout",
          "text": [
            "[NeMo I 2024-04-03 13:59:30 <ipython-input-46-180610cd99a3>:20] Model encoder has been frozen\n"
          ]
        }
      ]
    },
    {
      "cell_type": "code",
      "source": [
        "TOKENIZER_DIR = os.path.join(tokenizer_dir, f\"tokenizer_spe_{TOKENIZER_TYPE}_v{VOCAB_SIZE}\")\n",
        "\n",
        "model.change_vocabulary(new_tokenizer_dir=TOKENIZER_DIR, new_tokenizer_type=TOKENIZER_TYPE)\n",
        "\n",
        "new_tokenizer_dir = os.path.join(tokenizer_dir, f\"tokenizer_spe_{TOKENIZER_TYPE}_v{VOCAB_SIZE}\")\n",
        "\n",
        "# Initialize the model with the new tokenizer directory\n",
        "model = nemo_asr.models.EncDecCTCModel.from_pretrained(model_name=\"stt_en_transformer_ctc_large\", map_location='cpu', tokenizer_dir=new_tokenizer_dir)"
      ],
      "metadata": {
        "id": "qDByv2pSn0R_"
      },
      "execution_count": null,
      "outputs": []
    },
    {
      "cell_type": "code",
      "source": [
        "cfg = copy.deepcopy(model.cfg)\n",
        "\n",
        "# Setup new tokenizer\n",
        "cfg.tokenizer.dir = TOKENIZER_DIR\n",
        "cfg.tokenizer.type = \"bpe\"\n",
        "\n",
        "# Set tokenizer config\n",
        "model.cfg.tokenizer = cfg.tokenizer"
      ],
      "metadata": {
        "id": "1QjirZFqwj1l"
      },
      "execution_count": null,
      "outputs": []
    },
    {
      "cell_type": "code",
      "source": [
        "# Setup train/val/test configs\n",
        "print(OmegaConf.to_yaml(cfg.train_ds))"
      ],
      "metadata": {
        "id": "QIK9iJgRxRE4"
      },
      "execution_count": null,
      "outputs": []
    },
    {
      "cell_type": "code",
      "source": [
        "# Setup train, validation, test configs\n",
        "with open_dict(cfg):\n",
        "  # Train dataset\n",
        "  cfg.train_ds.manifest_filepath = f\"{train_manifest_full},{dev_manifest}\"\n",
        "  cfg.train_ds.batch_size = 32\n",
        "  cfg.train_ds.num_workers = 8\n",
        "  cfg.train_ds.pin_memory = True\n",
        "  cfg.train_ds.use_start_end_token = False\n",
        "  cfg.train_ds.trim_silence = True\n",
        "\n",
        "  # Validation dataset\n",
        "  cfg.validation_ds.manifest_filepath = test_manifest\n",
        "  cfg.validation_ds.batch_size = 8\n",
        "  cfg.validation_ds.num_workers = 8\n",
        "  cfg.validation_ds.pin_memory = True\n",
        "  cfg.validation_ds.use_start_end_token = False\n",
        "  cfg.validation_ds.trim_silence = True\n",
        "\n",
        "  # Test dataset\n",
        "  cfg.test_ds.manifest_filepath = test_manifest\n",
        "  cfg.test_ds.batch_size = 8\n",
        "  cfg.test_ds.num_workers = 8\n",
        "  cfg.test_ds.pin_memory = True\n",
        "  cfg.test_ds.use_start_end_token = False\n",
        "  cfg.test_ds.trim_silence = True"
      ],
      "metadata": {
        "id": "Yt4D4CRdxbBe"
      },
      "execution_count": null,
      "outputs": []
    },
    {
      "cell_type": "code",
      "source": [
        "# setup model with new configs\n",
        "model.setup_training_data(cfg.train_ds)\n",
        "model.setup_multiple_validation_data(cfg.validation_ds)\n",
        "model.setup_multiple_test_data(cfg.test_ds)"
      ],
      "metadata": {
        "id": "6FgHvAJAzGna",
        "outputId": "b52266f9-9c23-4e27-beeb-5dae6672f80b",
        "colab": {
          "base_uri": "https://localhost:8080/"
        }
      },
      "execution_count": null,
      "outputs": [
        {
          "output_type": "stream",
          "name": "stdout",
          "text": [
            "[NeMo I 2024-04-03 13:59:44 collections:196] Dataset loaded with 12702 files totalling 18.82 hours\n",
            "[NeMo I 2024-04-03 13:59:44 collections:197] 5 files were filtered totalling 0.13 hours\n"
          ]
        },
        {
          "output_type": "stream",
          "name": "stderr",
          "text": [
            "[NeMo W 2024-04-03 13:59:45 nemo_logging:349] /usr/local/lib/python3.10/dist-packages/torch/utils/data/dataloader.py:558: UserWarning: This DataLoader will create 8 worker processes in total. Our suggested max number of worker in current system is 2, which is smaller than what this DataLoader is going to create. Please be aware that excessive worker creation might get DataLoader running slow or even freeze, lower the worker number to avoid potential slowness/freeze if necessary.\n",
            "      warnings.warn(_create_warning_msg(\n",
            "    \n"
          ]
        },
        {
          "output_type": "stream",
          "name": "stdout",
          "text": [
            "[NeMo I 2024-04-03 13:59:45 collections:196] Dataset loaded with 2853 files totalling 4.55 hours\n",
            "[NeMo I 2024-04-03 13:59:45 collections:197] 0 files were filtered totalling 0.00 hours\n",
            "[NeMo I 2024-04-03 13:59:45 collections:196] Dataset loaded with 2853 files totalling 4.55 hours\n",
            "[NeMo I 2024-04-03 13:59:45 collections:197] 0 files were filtered totalling 0.00 hours\n"
          ]
        }
      ]
    },
    {
      "cell_type": "code",
      "source": [
        "print(OmegaConf.to_yaml(cfg.optim))"
      ],
      "metadata": {
        "id": "TurrrW7j11zV",
        "outputId": "0af276a8-45b4-4075-ff95-e2f1b103455d",
        "colab": {
          "base_uri": "https://localhost:8080/"
        }
      },
      "execution_count": null,
      "outputs": [
        {
          "output_type": "stream",
          "name": "stdout",
          "text": [
            "name: adamw\n",
            "lr: 0.001\n",
            "betas:\n",
            "- 0.9\n",
            "- 0.98\n",
            "weight_decay: 0.001\n",
            "sched:\n",
            "  name: CosineAnnealing\n",
            "  warmup_steps: 15000\n",
            "  warmup_ratio: null\n",
            "  min_lr: 0.0001\n",
            "\n"
          ]
        }
      ]
    },
    {
      "cell_type": "code",
      "source": [
        "with open_dict(model.cfg.optim):\n",
        "  model.cfg.optim.lr = 0.025\n",
        "  model.cfg.optim.weight_decay = 0.001\n",
        "  model.cfg.optim.sched.warmup_steps = None  # Remove default number of steps of warmup\n",
        "  model.cfg.optim.sched.warmup_ratio = 0.10  # 10 % warmup\n",
        "  model.cfg.optim.sched.min_lr = 1e-9\n",
        "\n",
        "with open_dict(model.cfg.spec_augment):\n",
        "  model.cfg.spec_augment.freq_masks = 2\n",
        "  model.cfg.spec_augment.freq_width = 25\n",
        "  model.cfg.spec_augment.time_masks = 10\n",
        "  model.cfg.spec_augment.time_width = 0.05\n",
        "\n",
        "model.spec_augmentation = model.from_config_dict(model.cfg.spec_augment)"
      ],
      "metadata": {
        "id": "BsUp7In413A_"
      },
      "execution_count": null,
      "outputs": []
    },
    {
      "cell_type": "code",
      "source": [
        "use_cer = False\n",
        "log_prediction = True\n",
        "\n",
        "model.wer.use_cer = use_cer\n",
        "model.wer.log_prediction = log_prediction"
      ],
      "metadata": {
        "id": "ReITO2WL2E2X"
      },
      "execution_count": null,
      "outputs": []
    },
    {
      "cell_type": "code",
      "source": [
        "import torch\n",
        "import pytorch_lightning as ptl\n",
        "\n",
        "if torch.cuda.is_available():\n",
        "  accelerator = 'gpu'\n",
        "else:\n",
        "  accelerator = 'gpu'\n",
        "\n",
        "EPOCHS = 50  # will take approximately 4 hours\n",
        "\n",
        "trainer = ptl.Trainer(devices=1,\n",
        "                      accelerator=accelerator,\n",
        "                      max_epochs=EPOCHS,\n",
        "                      accumulate_grad_batches=1,\n",
        "                      enable_checkpointing=False,\n",
        "                      logger=False,\n",
        "                      log_every_n_steps=5,\n",
        "                      check_val_every_n_epoch=10)\n",
        "\n",
        "# Setup model with the trainer\n",
        "model.set_trainer(trainer)\n",
        "\n",
        "# finally, update the model's internal config\n",
        "model.cfg = model._cfg"
      ],
      "metadata": {
        "id": "A2xceylG5dVL",
        "outputId": "8c2bc63f-75a4-412e-9fb0-5b9b573af727",
        "colab": {
          "base_uri": "https://localhost:8080/"
        }
      },
      "execution_count": null,
      "outputs": [
        {
          "output_type": "stream",
          "name": "stderr",
          "text": [
            "INFO:pytorch_lightning.utilities.rank_zero:GPU available: True (cuda), used: True\n",
            "INFO:pytorch_lightning.utilities.rank_zero:TPU available: False, using: 0 TPU cores\n",
            "INFO:pytorch_lightning.utilities.rank_zero:IPU available: False, using: 0 IPUs\n",
            "INFO:pytorch_lightning.utilities.rank_zero:HPU available: False, using: 0 HPUs\n"
          ]
        }
      ]
    },
    {
      "cell_type": "code",
      "source": [
        "from nemo.utils import exp_manager\n",
        "\n",
        "# Environment variable generally used for multi-node multi-gpu training.\n",
        "# In notebook environments, this flag is unnecessary and can cause logs of multiple training runs to overwrite each other.\n",
        "os.environ.pop('NEMO_EXPM_VERSION', None)\n",
        "\n",
        "config = exp_manager.ExpManagerConfig(\n",
        "    exp_dir=f'experiments/lang-{LANGUAGE}/',\n",
        "    name=f\"ASR-Model-Language-{LANGUAGE}\",\n",
        "    checkpoint_callback_params=exp_manager.CallbackParams(\n",
        "        monitor=\"val_wer\",\n",
        "        mode=\"min\",\n",
        "        always_save_nemo=True,\n",
        "        save_best_model=True,\n",
        "    ),\n",
        ")\n",
        "\n",
        "config = OmegaConf.structured(config)\n",
        "\n",
        "logdir = exp_manager.exp_manager(trainer, config)"
      ],
      "metadata": {
        "id": "ZwYxiR0m5s9x",
        "outputId": "2d4053aa-7010-4f01-b1d0-231848428957",
        "colab": {
          "base_uri": "https://localhost:8080/"
        }
      },
      "execution_count": null,
      "outputs": [
        {
          "output_type": "stream",
          "name": "stdout",
          "text": [
            "[NeMo I 2024-04-03 14:00:07 exp_manager:396] Experiments will be logged at experiments/lang-hy-AM/ASR-Model-Language-hy-AM/2024-04-03_14-00-07\n",
            "[NeMo I 2024-04-03 14:00:07 exp_manager:856] TensorboardLogger has been set up\n"
          ]
        }
      ]
    },
    {
      "cell_type": "code",
      "execution_count": null,
      "metadata": {
        "id": "-BKJlq_bDjxS"
      },
      "outputs": [],
      "source": [
        "try:\n",
        "  from google import colab\n",
        "  COLAB_ENV = True\n",
        "except (ImportError, ModuleNotFoundError):\n",
        "  COLAB_ENV = False\n",
        "\n",
        "# Load the TensorBoard notebook extension\n",
        "if COLAB_ENV:\n",
        "  %load_ext tensorboard\n",
        "  %tensorboard --logdir /content/experiments/lang-$LANGUAGE/ASR-Model-Language-$LANGUAGE/\n",
        "else:\n",
        "  print(\"To use tensorboard, please use this notebook in a Google Colab environment.\")"
      ]
    },
    {
      "cell_type": "code",
      "source": [
        "%%time\n",
        "trainer.fit(model)"
      ],
      "metadata": {
        "id": "ZFkAFzrK7bhM"
      },
      "execution_count": null,
      "outputs": []
    },
    {
      "cell_type": "markdown",
      "source": [
        "Please save and download your model."
      ],
      "metadata": {
        "id": "gbmLhiJoUaMS"
      }
    },
    {
      "cell_type": "code",
      "source": [
        "save_path = f\"Model-{LANGUAGE}.nemo\"\n",
        "model.save_to(f\"{save_path}\")\n",
        "print(f\"Model saved at path : {os.getcwd() + os.path.sep + save_path}\")"
      ],
      "metadata": {
        "id": "jsZlb5c38QiJ",
        "outputId": "f3930a1b-7868-4660-99e2-b34c5ac421a0",
        "colab": {
          "base_uri": "https://localhost:8080/"
        }
      },
      "execution_count": null,
      "outputs": [
        {
          "output_type": "stream",
          "name": "stdout",
          "text": [
            "Model saved at path : /content/Model-hy-AM.nemo\n"
          ]
        }
      ]
    }
  ],
  "metadata": {
    "colab": {
      "provenance": [],
      "gpuType": "T4",
      "include_colab_link": true
    },
    "kernelspec": {
      "display_name": "Python 3",
      "name": "python3"
    },
    "language_info": {
      "name": "python"
    },
    "accelerator": "GPU",
    "widgets": {
      "application/vnd.jupyter.widget-state+json": {
        "4f597389e524426b8a03c2684b1d8aaa": {
          "model_module": "@jupyter-widgets/controls",
          "model_name": "VBoxModel",
          "model_module_version": "1.5.0",
          "state": {
            "_dom_classes": [],
            "_model_module": "@jupyter-widgets/controls",
            "_model_module_version": "1.5.0",
            "_model_name": "VBoxModel",
            "_view_count": null,
            "_view_module": "@jupyter-widgets/controls",
            "_view_module_version": "1.5.0",
            "_view_name": "VBoxView",
            "box_style": "",
            "children": [
              "IPY_MODEL_1fed370a0df54ea786bcc7214e3974f7",
              "IPY_MODEL_5d62a9631ed14620a34c68ef81ea6a16",
              "IPY_MODEL_b17b2c8ec4ab4ddeb4c727e82a996704",
              "IPY_MODEL_d6890f87aac5489eb47c17797a3fcc6a"
            ],
            "layout": "IPY_MODEL_6ff158e0a3ff46ff9eec34132f4d5b02"
          }
        },
        "bf1001d0bbd84b129034f6c1967fb4c6": {
          "model_module": "@jupyter-widgets/controls",
          "model_name": "HTMLModel",
          "model_module_version": "1.5.0",
          "state": {
            "_dom_classes": [],
            "_model_module": "@jupyter-widgets/controls",
            "_model_module_version": "1.5.0",
            "_model_name": "HTMLModel",
            "_view_count": null,
            "_view_module": "@jupyter-widgets/controls",
            "_view_module_version": "1.5.0",
            "_view_name": "HTMLView",
            "description": "",
            "description_tooltip": null,
            "layout": "IPY_MODEL_2fb8308aa91a4a9dae02583b0b046f1d",
            "placeholder": "​",
            "style": "IPY_MODEL_5935217eb91d4f24b1e9ec4b6aba4299",
            "value": "<center> <img\nsrc=https://huggingface.co/front/assets/huggingface_logo-noborder.svg\nalt='Hugging Face'> <br> Copy a token from <a\nhref=\"https://huggingface.co/settings/tokens\" target=\"_blank\">your Hugging Face\ntokens page</a> and paste it below. <br> Immediately click login after copying\nyour token or it might be stored in plain text in this notebook file. </center>"
          }
        },
        "79e38aebbf6644f9a5bb75655b38ec22": {
          "model_module": "@jupyter-widgets/controls",
          "model_name": "PasswordModel",
          "model_module_version": "1.5.0",
          "state": {
            "_dom_classes": [],
            "_model_module": "@jupyter-widgets/controls",
            "_model_module_version": "1.5.0",
            "_model_name": "PasswordModel",
            "_view_count": null,
            "_view_module": "@jupyter-widgets/controls",
            "_view_module_version": "1.5.0",
            "_view_name": "PasswordView",
            "continuous_update": true,
            "description": "Token:",
            "description_tooltip": null,
            "disabled": false,
            "layout": "IPY_MODEL_2cb6b203c6ec4872ab7fbf9b30dd1b9c",
            "placeholder": "​",
            "style": "IPY_MODEL_ca149d31c8154f62ba04fa3a6e91f76a",
            "value": ""
          }
        },
        "443f7d1d655046629df2a764acd517ef": {
          "model_module": "@jupyter-widgets/controls",
          "model_name": "CheckboxModel",
          "model_module_version": "1.5.0",
          "state": {
            "_dom_classes": [],
            "_model_module": "@jupyter-widgets/controls",
            "_model_module_version": "1.5.0",
            "_model_name": "CheckboxModel",
            "_view_count": null,
            "_view_module": "@jupyter-widgets/controls",
            "_view_module_version": "1.5.0",
            "_view_name": "CheckboxView",
            "description": "Add token as git credential?",
            "description_tooltip": null,
            "disabled": false,
            "indent": true,
            "layout": "IPY_MODEL_be86d336e84248daa73dc3346490097f",
            "style": "IPY_MODEL_967197a375c340a7bc8b0c0ad866c500",
            "value": true
          }
        },
        "1ee274f41a5547bea66434520d2a9b5d": {
          "model_module": "@jupyter-widgets/controls",
          "model_name": "ButtonModel",
          "model_module_version": "1.5.0",
          "state": {
            "_dom_classes": [],
            "_model_module": "@jupyter-widgets/controls",
            "_model_module_version": "1.5.0",
            "_model_name": "ButtonModel",
            "_view_count": null,
            "_view_module": "@jupyter-widgets/controls",
            "_view_module_version": "1.5.0",
            "_view_name": "ButtonView",
            "button_style": "",
            "description": "Login",
            "disabled": false,
            "icon": "",
            "layout": "IPY_MODEL_bebe1a33597743f48314fee5b0871ae0",
            "style": "IPY_MODEL_dd876e1bfe064091a59c122800336ed2",
            "tooltip": ""
          }
        },
        "c897f50a652348ecbffb5c684b3668d0": {
          "model_module": "@jupyter-widgets/controls",
          "model_name": "HTMLModel",
          "model_module_version": "1.5.0",
          "state": {
            "_dom_classes": [],
            "_model_module": "@jupyter-widgets/controls",
            "_model_module_version": "1.5.0",
            "_model_name": "HTMLModel",
            "_view_count": null,
            "_view_module": "@jupyter-widgets/controls",
            "_view_module_version": "1.5.0",
            "_view_name": "HTMLView",
            "description": "",
            "description_tooltip": null,
            "layout": "IPY_MODEL_b977afe7120a4e03b74647317961c958",
            "placeholder": "​",
            "style": "IPY_MODEL_2952249220814452a579c52b3f810074",
            "value": "\n<b>Pro Tip:</b> If you don't already have one, you can create a dedicated\n'notebooks' token with 'write' access, that you can then easily reuse for all\nnotebooks. </center>"
          }
        },
        "6ff158e0a3ff46ff9eec34132f4d5b02": {
          "model_module": "@jupyter-widgets/base",
          "model_name": "LayoutModel",
          "model_module_version": "1.2.0",
          "state": {
            "_model_module": "@jupyter-widgets/base",
            "_model_module_version": "1.2.0",
            "_model_name": "LayoutModel",
            "_view_count": null,
            "_view_module": "@jupyter-widgets/base",
            "_view_module_version": "1.2.0",
            "_view_name": "LayoutView",
            "align_content": null,
            "align_items": "center",
            "align_self": null,
            "border": null,
            "bottom": null,
            "display": "flex",
            "flex": null,
            "flex_flow": "column",
            "grid_area": null,
            "grid_auto_columns": null,
            "grid_auto_flow": null,
            "grid_auto_rows": null,
            "grid_column": null,
            "grid_gap": null,
            "grid_row": null,
            "grid_template_areas": null,
            "grid_template_columns": null,
            "grid_template_rows": null,
            "height": null,
            "justify_content": null,
            "justify_items": null,
            "left": null,
            "margin": null,
            "max_height": null,
            "max_width": null,
            "min_height": null,
            "min_width": null,
            "object_fit": null,
            "object_position": null,
            "order": null,
            "overflow": null,
            "overflow_x": null,
            "overflow_y": null,
            "padding": null,
            "right": null,
            "top": null,
            "visibility": null,
            "width": "50%"
          }
        },
        "2fb8308aa91a4a9dae02583b0b046f1d": {
          "model_module": "@jupyter-widgets/base",
          "model_name": "LayoutModel",
          "model_module_version": "1.2.0",
          "state": {
            "_model_module": "@jupyter-widgets/base",
            "_model_module_version": "1.2.0",
            "_model_name": "LayoutModel",
            "_view_count": null,
            "_view_module": "@jupyter-widgets/base",
            "_view_module_version": "1.2.0",
            "_view_name": "LayoutView",
            "align_content": null,
            "align_items": null,
            "align_self": null,
            "border": null,
            "bottom": null,
            "display": null,
            "flex": null,
            "flex_flow": null,
            "grid_area": null,
            "grid_auto_columns": null,
            "grid_auto_flow": null,
            "grid_auto_rows": null,
            "grid_column": null,
            "grid_gap": null,
            "grid_row": null,
            "grid_template_areas": null,
            "grid_template_columns": null,
            "grid_template_rows": null,
            "height": null,
            "justify_content": null,
            "justify_items": null,
            "left": null,
            "margin": null,
            "max_height": null,
            "max_width": null,
            "min_height": null,
            "min_width": null,
            "object_fit": null,
            "object_position": null,
            "order": null,
            "overflow": null,
            "overflow_x": null,
            "overflow_y": null,
            "padding": null,
            "right": null,
            "top": null,
            "visibility": null,
            "width": null
          }
        },
        "5935217eb91d4f24b1e9ec4b6aba4299": {
          "model_module": "@jupyter-widgets/controls",
          "model_name": "DescriptionStyleModel",
          "model_module_version": "1.5.0",
          "state": {
            "_model_module": "@jupyter-widgets/controls",
            "_model_module_version": "1.5.0",
            "_model_name": "DescriptionStyleModel",
            "_view_count": null,
            "_view_module": "@jupyter-widgets/base",
            "_view_module_version": "1.2.0",
            "_view_name": "StyleView",
            "description_width": ""
          }
        },
        "2cb6b203c6ec4872ab7fbf9b30dd1b9c": {
          "model_module": "@jupyter-widgets/base",
          "model_name": "LayoutModel",
          "model_module_version": "1.2.0",
          "state": {
            "_model_module": "@jupyter-widgets/base",
            "_model_module_version": "1.2.0",
            "_model_name": "LayoutModel",
            "_view_count": null,
            "_view_module": "@jupyter-widgets/base",
            "_view_module_version": "1.2.0",
            "_view_name": "LayoutView",
            "align_content": null,
            "align_items": null,
            "align_self": null,
            "border": null,
            "bottom": null,
            "display": null,
            "flex": null,
            "flex_flow": null,
            "grid_area": null,
            "grid_auto_columns": null,
            "grid_auto_flow": null,
            "grid_auto_rows": null,
            "grid_column": null,
            "grid_gap": null,
            "grid_row": null,
            "grid_template_areas": null,
            "grid_template_columns": null,
            "grid_template_rows": null,
            "height": null,
            "justify_content": null,
            "justify_items": null,
            "left": null,
            "margin": null,
            "max_height": null,
            "max_width": null,
            "min_height": null,
            "min_width": null,
            "object_fit": null,
            "object_position": null,
            "order": null,
            "overflow": null,
            "overflow_x": null,
            "overflow_y": null,
            "padding": null,
            "right": null,
            "top": null,
            "visibility": null,
            "width": null
          }
        },
        "ca149d31c8154f62ba04fa3a6e91f76a": {
          "model_module": "@jupyter-widgets/controls",
          "model_name": "DescriptionStyleModel",
          "model_module_version": "1.5.0",
          "state": {
            "_model_module": "@jupyter-widgets/controls",
            "_model_module_version": "1.5.0",
            "_model_name": "DescriptionStyleModel",
            "_view_count": null,
            "_view_module": "@jupyter-widgets/base",
            "_view_module_version": "1.2.0",
            "_view_name": "StyleView",
            "description_width": ""
          }
        },
        "be86d336e84248daa73dc3346490097f": {
          "model_module": "@jupyter-widgets/base",
          "model_name": "LayoutModel",
          "model_module_version": "1.2.0",
          "state": {
            "_model_module": "@jupyter-widgets/base",
            "_model_module_version": "1.2.0",
            "_model_name": "LayoutModel",
            "_view_count": null,
            "_view_module": "@jupyter-widgets/base",
            "_view_module_version": "1.2.0",
            "_view_name": "LayoutView",
            "align_content": null,
            "align_items": null,
            "align_self": null,
            "border": null,
            "bottom": null,
            "display": null,
            "flex": null,
            "flex_flow": null,
            "grid_area": null,
            "grid_auto_columns": null,
            "grid_auto_flow": null,
            "grid_auto_rows": null,
            "grid_column": null,
            "grid_gap": null,
            "grid_row": null,
            "grid_template_areas": null,
            "grid_template_columns": null,
            "grid_template_rows": null,
            "height": null,
            "justify_content": null,
            "justify_items": null,
            "left": null,
            "margin": null,
            "max_height": null,
            "max_width": null,
            "min_height": null,
            "min_width": null,
            "object_fit": null,
            "object_position": null,
            "order": null,
            "overflow": null,
            "overflow_x": null,
            "overflow_y": null,
            "padding": null,
            "right": null,
            "top": null,
            "visibility": null,
            "width": null
          }
        },
        "967197a375c340a7bc8b0c0ad866c500": {
          "model_module": "@jupyter-widgets/controls",
          "model_name": "DescriptionStyleModel",
          "model_module_version": "1.5.0",
          "state": {
            "_model_module": "@jupyter-widgets/controls",
            "_model_module_version": "1.5.0",
            "_model_name": "DescriptionStyleModel",
            "_view_count": null,
            "_view_module": "@jupyter-widgets/base",
            "_view_module_version": "1.2.0",
            "_view_name": "StyleView",
            "description_width": ""
          }
        },
        "bebe1a33597743f48314fee5b0871ae0": {
          "model_module": "@jupyter-widgets/base",
          "model_name": "LayoutModel",
          "model_module_version": "1.2.0",
          "state": {
            "_model_module": "@jupyter-widgets/base",
            "_model_module_version": "1.2.0",
            "_model_name": "LayoutModel",
            "_view_count": null,
            "_view_module": "@jupyter-widgets/base",
            "_view_module_version": "1.2.0",
            "_view_name": "LayoutView",
            "align_content": null,
            "align_items": null,
            "align_self": null,
            "border": null,
            "bottom": null,
            "display": null,
            "flex": null,
            "flex_flow": null,
            "grid_area": null,
            "grid_auto_columns": null,
            "grid_auto_flow": null,
            "grid_auto_rows": null,
            "grid_column": null,
            "grid_gap": null,
            "grid_row": null,
            "grid_template_areas": null,
            "grid_template_columns": null,
            "grid_template_rows": null,
            "height": null,
            "justify_content": null,
            "justify_items": null,
            "left": null,
            "margin": null,
            "max_height": null,
            "max_width": null,
            "min_height": null,
            "min_width": null,
            "object_fit": null,
            "object_position": null,
            "order": null,
            "overflow": null,
            "overflow_x": null,
            "overflow_y": null,
            "padding": null,
            "right": null,
            "top": null,
            "visibility": null,
            "width": null
          }
        },
        "dd876e1bfe064091a59c122800336ed2": {
          "model_module": "@jupyter-widgets/controls",
          "model_name": "ButtonStyleModel",
          "model_module_version": "1.5.0",
          "state": {
            "_model_module": "@jupyter-widgets/controls",
            "_model_module_version": "1.5.0",
            "_model_name": "ButtonStyleModel",
            "_view_count": null,
            "_view_module": "@jupyter-widgets/base",
            "_view_module_version": "1.2.0",
            "_view_name": "StyleView",
            "button_color": null,
            "font_weight": ""
          }
        },
        "b977afe7120a4e03b74647317961c958": {
          "model_module": "@jupyter-widgets/base",
          "model_name": "LayoutModel",
          "model_module_version": "1.2.0",
          "state": {
            "_model_module": "@jupyter-widgets/base",
            "_model_module_version": "1.2.0",
            "_model_name": "LayoutModel",
            "_view_count": null,
            "_view_module": "@jupyter-widgets/base",
            "_view_module_version": "1.2.0",
            "_view_name": "LayoutView",
            "align_content": null,
            "align_items": null,
            "align_self": null,
            "border": null,
            "bottom": null,
            "display": null,
            "flex": null,
            "flex_flow": null,
            "grid_area": null,
            "grid_auto_columns": null,
            "grid_auto_flow": null,
            "grid_auto_rows": null,
            "grid_column": null,
            "grid_gap": null,
            "grid_row": null,
            "grid_template_areas": null,
            "grid_template_columns": null,
            "grid_template_rows": null,
            "height": null,
            "justify_content": null,
            "justify_items": null,
            "left": null,
            "margin": null,
            "max_height": null,
            "max_width": null,
            "min_height": null,
            "min_width": null,
            "object_fit": null,
            "object_position": null,
            "order": null,
            "overflow": null,
            "overflow_x": null,
            "overflow_y": null,
            "padding": null,
            "right": null,
            "top": null,
            "visibility": null,
            "width": null
          }
        },
        "2952249220814452a579c52b3f810074": {
          "model_module": "@jupyter-widgets/controls",
          "model_name": "DescriptionStyleModel",
          "model_module_version": "1.5.0",
          "state": {
            "_model_module": "@jupyter-widgets/controls",
            "_model_module_version": "1.5.0",
            "_model_name": "DescriptionStyleModel",
            "_view_count": null,
            "_view_module": "@jupyter-widgets/base",
            "_view_module_version": "1.2.0",
            "_view_name": "StyleView",
            "description_width": ""
          }
        },
        "d37db8e0655c4f6a96f3c4d9a3f42e71": {
          "model_module": "@jupyter-widgets/controls",
          "model_name": "LabelModel",
          "model_module_version": "1.5.0",
          "state": {
            "_dom_classes": [],
            "_model_module": "@jupyter-widgets/controls",
            "_model_module_version": "1.5.0",
            "_model_name": "LabelModel",
            "_view_count": null,
            "_view_module": "@jupyter-widgets/controls",
            "_view_module_version": "1.5.0",
            "_view_name": "LabelView",
            "description": "",
            "description_tooltip": null,
            "layout": "IPY_MODEL_bf2ef4efaf5c46a280741f8de90f110c",
            "placeholder": "​",
            "style": "IPY_MODEL_ac291946ad5e4e8996b9eff5d553becb",
            "value": "Connecting..."
          }
        },
        "bf2ef4efaf5c46a280741f8de90f110c": {
          "model_module": "@jupyter-widgets/base",
          "model_name": "LayoutModel",
          "model_module_version": "1.2.0",
          "state": {
            "_model_module": "@jupyter-widgets/base",
            "_model_module_version": "1.2.0",
            "_model_name": "LayoutModel",
            "_view_count": null,
            "_view_module": "@jupyter-widgets/base",
            "_view_module_version": "1.2.0",
            "_view_name": "LayoutView",
            "align_content": null,
            "align_items": null,
            "align_self": null,
            "border": null,
            "bottom": null,
            "display": null,
            "flex": null,
            "flex_flow": null,
            "grid_area": null,
            "grid_auto_columns": null,
            "grid_auto_flow": null,
            "grid_auto_rows": null,
            "grid_column": null,
            "grid_gap": null,
            "grid_row": null,
            "grid_template_areas": null,
            "grid_template_columns": null,
            "grid_template_rows": null,
            "height": null,
            "justify_content": null,
            "justify_items": null,
            "left": null,
            "margin": null,
            "max_height": null,
            "max_width": null,
            "min_height": null,
            "min_width": null,
            "object_fit": null,
            "object_position": null,
            "order": null,
            "overflow": null,
            "overflow_x": null,
            "overflow_y": null,
            "padding": null,
            "right": null,
            "top": null,
            "visibility": null,
            "width": null
          }
        },
        "ac291946ad5e4e8996b9eff5d553becb": {
          "model_module": "@jupyter-widgets/controls",
          "model_name": "DescriptionStyleModel",
          "model_module_version": "1.5.0",
          "state": {
            "_model_module": "@jupyter-widgets/controls",
            "_model_module_version": "1.5.0",
            "_model_name": "DescriptionStyleModel",
            "_view_count": null,
            "_view_module": "@jupyter-widgets/base",
            "_view_module_version": "1.2.0",
            "_view_name": "StyleView",
            "description_width": ""
          }
        },
        "1fed370a0df54ea786bcc7214e3974f7": {
          "model_module": "@jupyter-widgets/controls",
          "model_name": "LabelModel",
          "model_module_version": "1.5.0",
          "state": {
            "_dom_classes": [],
            "_model_module": "@jupyter-widgets/controls",
            "_model_module_version": "1.5.0",
            "_model_name": "LabelModel",
            "_view_count": null,
            "_view_module": "@jupyter-widgets/controls",
            "_view_module_version": "1.5.0",
            "_view_name": "LabelView",
            "description": "",
            "description_tooltip": null,
            "layout": "IPY_MODEL_1a58e185aa864d0885aac19a9cbbb295",
            "placeholder": "​",
            "style": "IPY_MODEL_7a7d49706a064404989b8e943fbb515f",
            "value": "Token is valid (permission: read)."
          }
        },
        "5d62a9631ed14620a34c68ef81ea6a16": {
          "model_module": "@jupyter-widgets/controls",
          "model_name": "LabelModel",
          "model_module_version": "1.5.0",
          "state": {
            "_dom_classes": [],
            "_model_module": "@jupyter-widgets/controls",
            "_model_module_version": "1.5.0",
            "_model_name": "LabelModel",
            "_view_count": null,
            "_view_module": "@jupyter-widgets/controls",
            "_view_module_version": "1.5.0",
            "_view_name": "LabelView",
            "description": "",
            "description_tooltip": null,
            "layout": "IPY_MODEL_9af81d8de0d74d0ab6fa805b9db78428",
            "placeholder": "​",
            "style": "IPY_MODEL_ef2dda06f21b43109de118e669a16c13",
            "value": "Your token has been saved in your configured git credential helpers (store)."
          }
        },
        "b17b2c8ec4ab4ddeb4c727e82a996704": {
          "model_module": "@jupyter-widgets/controls",
          "model_name": "LabelModel",
          "model_module_version": "1.5.0",
          "state": {
            "_dom_classes": [],
            "_model_module": "@jupyter-widgets/controls",
            "_model_module_version": "1.5.0",
            "_model_name": "LabelModel",
            "_view_count": null,
            "_view_module": "@jupyter-widgets/controls",
            "_view_module_version": "1.5.0",
            "_view_name": "LabelView",
            "description": "",
            "description_tooltip": null,
            "layout": "IPY_MODEL_d34ca5e7e0114051a8058f2b26de0687",
            "placeholder": "​",
            "style": "IPY_MODEL_cdcad188b5b847589b548aa155160e82",
            "value": "Your token has been saved to /root/.cache/huggingface/token"
          }
        },
        "d6890f87aac5489eb47c17797a3fcc6a": {
          "model_module": "@jupyter-widgets/controls",
          "model_name": "LabelModel",
          "model_module_version": "1.5.0",
          "state": {
            "_dom_classes": [],
            "_model_module": "@jupyter-widgets/controls",
            "_model_module_version": "1.5.0",
            "_model_name": "LabelModel",
            "_view_count": null,
            "_view_module": "@jupyter-widgets/controls",
            "_view_module_version": "1.5.0",
            "_view_name": "LabelView",
            "description": "",
            "description_tooltip": null,
            "layout": "IPY_MODEL_3b78055cd73e4d68a3aa8d12b8502d82",
            "placeholder": "​",
            "style": "IPY_MODEL_7b2640be9adc4fdc9030801d18980bfd",
            "value": "Login successful"
          }
        },
        "1a58e185aa864d0885aac19a9cbbb295": {
          "model_module": "@jupyter-widgets/base",
          "model_name": "LayoutModel",
          "model_module_version": "1.2.0",
          "state": {
            "_model_module": "@jupyter-widgets/base",
            "_model_module_version": "1.2.0",
            "_model_name": "LayoutModel",
            "_view_count": null,
            "_view_module": "@jupyter-widgets/base",
            "_view_module_version": "1.2.0",
            "_view_name": "LayoutView",
            "align_content": null,
            "align_items": null,
            "align_self": null,
            "border": null,
            "bottom": null,
            "display": null,
            "flex": null,
            "flex_flow": null,
            "grid_area": null,
            "grid_auto_columns": null,
            "grid_auto_flow": null,
            "grid_auto_rows": null,
            "grid_column": null,
            "grid_gap": null,
            "grid_row": null,
            "grid_template_areas": null,
            "grid_template_columns": null,
            "grid_template_rows": null,
            "height": null,
            "justify_content": null,
            "justify_items": null,
            "left": null,
            "margin": null,
            "max_height": null,
            "max_width": null,
            "min_height": null,
            "min_width": null,
            "object_fit": null,
            "object_position": null,
            "order": null,
            "overflow": null,
            "overflow_x": null,
            "overflow_y": null,
            "padding": null,
            "right": null,
            "top": null,
            "visibility": null,
            "width": null
          }
        },
        "7a7d49706a064404989b8e943fbb515f": {
          "model_module": "@jupyter-widgets/controls",
          "model_name": "DescriptionStyleModel",
          "model_module_version": "1.5.0",
          "state": {
            "_model_module": "@jupyter-widgets/controls",
            "_model_module_version": "1.5.0",
            "_model_name": "DescriptionStyleModel",
            "_view_count": null,
            "_view_module": "@jupyter-widgets/base",
            "_view_module_version": "1.2.0",
            "_view_name": "StyleView",
            "description_width": ""
          }
        },
        "9af81d8de0d74d0ab6fa805b9db78428": {
          "model_module": "@jupyter-widgets/base",
          "model_name": "LayoutModel",
          "model_module_version": "1.2.0",
          "state": {
            "_model_module": "@jupyter-widgets/base",
            "_model_module_version": "1.2.0",
            "_model_name": "LayoutModel",
            "_view_count": null,
            "_view_module": "@jupyter-widgets/base",
            "_view_module_version": "1.2.0",
            "_view_name": "LayoutView",
            "align_content": null,
            "align_items": null,
            "align_self": null,
            "border": null,
            "bottom": null,
            "display": null,
            "flex": null,
            "flex_flow": null,
            "grid_area": null,
            "grid_auto_columns": null,
            "grid_auto_flow": null,
            "grid_auto_rows": null,
            "grid_column": null,
            "grid_gap": null,
            "grid_row": null,
            "grid_template_areas": null,
            "grid_template_columns": null,
            "grid_template_rows": null,
            "height": null,
            "justify_content": null,
            "justify_items": null,
            "left": null,
            "margin": null,
            "max_height": null,
            "max_width": null,
            "min_height": null,
            "min_width": null,
            "object_fit": null,
            "object_position": null,
            "order": null,
            "overflow": null,
            "overflow_x": null,
            "overflow_y": null,
            "padding": null,
            "right": null,
            "top": null,
            "visibility": null,
            "width": null
          }
        },
        "ef2dda06f21b43109de118e669a16c13": {
          "model_module": "@jupyter-widgets/controls",
          "model_name": "DescriptionStyleModel",
          "model_module_version": "1.5.0",
          "state": {
            "_model_module": "@jupyter-widgets/controls",
            "_model_module_version": "1.5.0",
            "_model_name": "DescriptionStyleModel",
            "_view_count": null,
            "_view_module": "@jupyter-widgets/base",
            "_view_module_version": "1.2.0",
            "_view_name": "StyleView",
            "description_width": ""
          }
        },
        "d34ca5e7e0114051a8058f2b26de0687": {
          "model_module": "@jupyter-widgets/base",
          "model_name": "LayoutModel",
          "model_module_version": "1.2.0",
          "state": {
            "_model_module": "@jupyter-widgets/base",
            "_model_module_version": "1.2.0",
            "_model_name": "LayoutModel",
            "_view_count": null,
            "_view_module": "@jupyter-widgets/base",
            "_view_module_version": "1.2.0",
            "_view_name": "LayoutView",
            "align_content": null,
            "align_items": null,
            "align_self": null,
            "border": null,
            "bottom": null,
            "display": null,
            "flex": null,
            "flex_flow": null,
            "grid_area": null,
            "grid_auto_columns": null,
            "grid_auto_flow": null,
            "grid_auto_rows": null,
            "grid_column": null,
            "grid_gap": null,
            "grid_row": null,
            "grid_template_areas": null,
            "grid_template_columns": null,
            "grid_template_rows": null,
            "height": null,
            "justify_content": null,
            "justify_items": null,
            "left": null,
            "margin": null,
            "max_height": null,
            "max_width": null,
            "min_height": null,
            "min_width": null,
            "object_fit": null,
            "object_position": null,
            "order": null,
            "overflow": null,
            "overflow_x": null,
            "overflow_y": null,
            "padding": null,
            "right": null,
            "top": null,
            "visibility": null,
            "width": null
          }
        },
        "cdcad188b5b847589b548aa155160e82": {
          "model_module": "@jupyter-widgets/controls",
          "model_name": "DescriptionStyleModel",
          "model_module_version": "1.5.0",
          "state": {
            "_model_module": "@jupyter-widgets/controls",
            "_model_module_version": "1.5.0",
            "_model_name": "DescriptionStyleModel",
            "_view_count": null,
            "_view_module": "@jupyter-widgets/base",
            "_view_module_version": "1.2.0",
            "_view_name": "StyleView",
            "description_width": ""
          }
        },
        "3b78055cd73e4d68a3aa8d12b8502d82": {
          "model_module": "@jupyter-widgets/base",
          "model_name": "LayoutModel",
          "model_module_version": "1.2.0",
          "state": {
            "_model_module": "@jupyter-widgets/base",
            "_model_module_version": "1.2.0",
            "_model_name": "LayoutModel",
            "_view_count": null,
            "_view_module": "@jupyter-widgets/base",
            "_view_module_version": "1.2.0",
            "_view_name": "LayoutView",
            "align_content": null,
            "align_items": null,
            "align_self": null,
            "border": null,
            "bottom": null,
            "display": null,
            "flex": null,
            "flex_flow": null,
            "grid_area": null,
            "grid_auto_columns": null,
            "grid_auto_flow": null,
            "grid_auto_rows": null,
            "grid_column": null,
            "grid_gap": null,
            "grid_row": null,
            "grid_template_areas": null,
            "grid_template_columns": null,
            "grid_template_rows": null,
            "height": null,
            "justify_content": null,
            "justify_items": null,
            "left": null,
            "margin": null,
            "max_height": null,
            "max_width": null,
            "min_height": null,
            "min_width": null,
            "object_fit": null,
            "object_position": null,
            "order": null,
            "overflow": null,
            "overflow_x": null,
            "overflow_y": null,
            "padding": null,
            "right": null,
            "top": null,
            "visibility": null,
            "width": null
          }
        },
        "7b2640be9adc4fdc9030801d18980bfd": {
          "model_module": "@jupyter-widgets/controls",
          "model_name": "DescriptionStyleModel",
          "model_module_version": "1.5.0",
          "state": {
            "_model_module": "@jupyter-widgets/controls",
            "_model_module_version": "1.5.0",
            "_model_name": "DescriptionStyleModel",
            "_view_count": null,
            "_view_module": "@jupyter-widgets/base",
            "_view_module_version": "1.2.0",
            "_view_name": "StyleView",
            "description_width": ""
          }
        }
      }
    }
  },
  "nbformat": 4,
  "nbformat_minor": 0
}